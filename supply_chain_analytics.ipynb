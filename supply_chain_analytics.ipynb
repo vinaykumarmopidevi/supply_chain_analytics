{
 "cells": [
  {
   "cell_type": "markdown",
   "metadata": {},
   "source": [
    "<h1 class=\"header-hero__title\">Supply Chain Analytics</h1>"
   ]
  },
  {
   "cell_type": "markdown",
   "metadata": {},
   "source": [
    "<p class=\"course__description\">Supply Chain Analytics transforms supply chain activities from guessing, to ones that makes decision using data. An essential tool in Supply Chain Analytics is using optimization analysis to assist in decision making. According to Deloitte, 79% of organizations with high performing supply chains achieve revenue growth that is significantly above average. This exercise will introduce you to PuLP, a Linear Program optimization modeler written in Python. Using PuLP, the course will show you how to formulate and answer Supply Chain optimization questions such as where a production facility should be located, how to allocate production demand across different facilities, and more. We will explore the results of the models and their implications through sensitivity and simulation testing. This course will help you position yourself to improve the decision making of a supply chain by leveraging the power of Python and PuLP.</p>"
   ]
  },
  {
   "cell_type": "markdown",
   "metadata": {},
   "source": [
    "<h4 class=\"chapter__title\">\n",
    "          Basics of supply chain optimization and PuLP\n",
    "        </h4>\n",
    "<p class=\"chapter__description\">\n",
    "    Linear Programming (LP) is a key technique for Supply Chain Optimization. The PuLP framework is an easy to use tool for working with LP problems and allows the programmer to focus on modeling.\n",
    "  </p>"
   ]
  },
  {
   "cell_type": "code",
   "execution_count": 28,
   "metadata": {},
   "outputs": [],
   "source": [
    "from pulp import *"
   ]
  },
  {
   "cell_type": "code",
   "execution_count": 29,
   "metadata": {},
   "outputs": [],
   "source": [
    "model = LpProblem('Maximize Bakery',LpMaximize)"
   ]
  },
  {
   "cell_type": "code",
   "execution_count": 30,
   "metadata": {},
   "outputs": [
    {
     "data": {
      "text/plain": [
       "name"
      ]
     },
     "execution_count": 30,
     "metadata": {},
     "output_type": "execute_result"
    }
   ],
   "source": [
    "LpVariable('name',lowBound=None,upBound=None,cat='Continuous',e=None)"
   ]
  },
  {
   "cell_type": "code",
   "execution_count": 31,
   "metadata": {},
   "outputs": [],
   "source": [
    "A=LpVariable('A',lowBound=0,cat='Integer')"
   ]
  },
  {
   "cell_type": "code",
   "execution_count": 32,
   "metadata": {},
   "outputs": [],
   "source": [
    "B=LpVariable('B',lowBound=0,cat='Integer')"
   ]
  },
  {
   "cell_type": "code",
   "execution_count": 33,
   "metadata": {},
   "outputs": [],
   "source": [
    "model +=20*A + 40*B"
   ]
  },
  {
   "cell_type": "code",
   "execution_count": 34,
   "metadata": {},
   "outputs": [],
   "source": [
    "model +=0.5*A+1*B<=B"
   ]
  },
  {
   "cell_type": "code",
   "execution_count": 35,
   "metadata": {},
   "outputs": [],
   "source": [
    "model +=1*A+2.5*B<=60"
   ]
  },
  {
   "cell_type": "code",
   "execution_count": 36,
   "metadata": {},
   "outputs": [],
   "source": [
    "model +=1*A+2*B<=22"
   ]
  },
  {
   "cell_type": "code",
   "execution_count": 37,
   "metadata": {},
   "outputs": [
    {
     "data": {
      "text/plain": [
       "1"
      ]
     },
     "execution_count": 37,
     "metadata": {},
     "output_type": "execute_result"
    }
   ],
   "source": [
    "model.solve()"
   ]
  },
  {
   "cell_type": "code",
   "execution_count": 38,
   "metadata": {},
   "outputs": [
    {
     "name": "stdout",
     "output_type": "stream",
     "text": [
      "Produce 0.0 Cake A\n"
     ]
    }
   ],
   "source": [
    "print('Produce {} Cake A'.format(A.varValue))"
   ]
  },
  {
   "cell_type": "code",
   "execution_count": 39,
   "metadata": {},
   "outputs": [
    {
     "name": "stdout",
     "output_type": "stream",
     "text": [
      "Produce 11.0 Cake B\n"
     ]
    }
   ],
   "source": [
    "print('Produce {} Cake B'.format(B.varValue))"
   ]
  },
  {
   "cell_type": "markdown",
   "metadata": {},
   "source": [
    "<div class=\"exercise--assignment exercise--typography\"><h1 class=\"exercise--title\">Simple resource scheduling exercise</h1><div class=\"\"><p>In this exercise you are planning the production at a glass manufacturer. This manufacturer only produces wine and beer glasses:</p>\n",
    "<ul>\n",
    "<li>there is a maximum production capacity of 60 hours</li>\n",
    "<li>each batch of wine and beer glasses takes 6 and 5 hours respectively</li>\n",
    "<li>the warehouse has a maximum capacity of 150 rack spaces</li>\n",
    "<li>each batch of the wine and beer glasses takes 10 and 20 spaces respectively</li>\n",
    "<li>the production equipment can only make full batches, no partial batches</li>\n",
    "</ul>\n",
    "<p>Also, we only have orders for 6 batches of wine glasses. Therefore, we do not want to produce more than this. Each batch of the wine glasses earns a profit of <span>&#36;</span>5 and the beer <span>&#36;</span>4.5.  </p>\n",
    "<p>The objective is to maximize the profit for the manufacturer.</p>\n",
    "<p><code>puLP</code> has already been imported for you.</p></div></div>"
   ]
  },
  {
   "cell_type": "code",
   "execution_count": 40,
   "metadata": {},
   "outputs": [
    {
     "name": "stdout",
     "output_type": "stream",
     "text": [
      "Produce 0.0 batches of wine glasses\n",
      "Produce 7.0 batches of beer glasses\n"
     ]
    }
   ],
   "source": [
    "# Initialize Class\n",
    "model = LpProblem(\"Maximize Glass Co. Profits\", LpMaximize)\n",
    "\n",
    "# Define Decision Variables\n",
    "wine = LpVariable('Wine', lowBound=0, upBound=None, cat='Integer')\n",
    "beer = LpVariable('Beer', lowBound=0, upBound=None, cat='Integer')\n",
    "\n",
    "# Define Objective Function\n",
    "model += 5 * wine + 4.5 * beer\n",
    "\n",
    "# Define Constraints\n",
    "model += 6 * wine + 5 * beer <= 60\n",
    "model += 10 * wine + 20 * beer <= 150\n",
    "model += wine <= 0\n",
    "\n",
    "# Solve Model\n",
    "model.solve()\n",
    "print(\"Produce {} batches of wine glasses\".format(wine.varValue))\n",
    "print(\"Produce {} batches of beer glasses\".format(beer.varValue))"
   ]
  },
  {
   "cell_type": "markdown",
   "metadata": {},
   "source": [
    "<p class=\"\">Using <code>LpMaximize()</code> makes sense because we are trying to maximize profits. It does not make sense to set an upper bound on the number of wine or beer glasses produced: the more the better. However, setting a lower bound is important because producing negative glasses is impossible. Also, selecting the variable to be an integer makes sense because we can not make half batches. Adding the last constraint on wine based on current orders is important to add to avoid producing too many wine glasses.</p>"
   ]
  },
  {
   "cell_type": "code",
   "execution_count": 41,
   "metadata": {},
   "outputs": [],
   "source": [
    "# Define Decision Variables\n",
    "A = LpVariable('A', lowBound=0, cat='Integer')\n",
    "B = LpVariable('B', lowBound=0, cat='Integer')\n",
    "C = LpVariable('C', lowBound=0, cat='Integer')\n",
    "D = LpVariable('D', lowBound=0, cat='Integer')\n",
    "E = LpVariable('E', lowBound=0, cat='Integer')\n",
    "F = LpVariable('F', lowBound=0, cat='Integer')"
   ]
  },
  {
   "cell_type": "code",
   "execution_count": 42,
   "metadata": {},
   "outputs": [],
   "source": [
    "# Define Objective Function\n",
    "model += 20*A + 40*B + 33*C + 14*D + 6*E + 60*F"
   ]
  },
  {
   "cell_type": "code",
   "execution_count": 43,
   "metadata": {},
   "outputs": [],
   "source": [
    "# Define Objective Function\n",
    "var_list = [20*A, 40*B, 33*C, 14*D, 6*E, 60*F]\n",
    "model += lpSum(var_list)"
   ]
  },
  {
   "cell_type": "code",
   "execution_count": 44,
   "metadata": {},
   "outputs": [],
   "source": [
    "# Define Objective Function\n",
    "cake_types = [\"A\",\"B\",\"C\",\"D\",\"E\",\"F\"]\n",
    "profit_by_cake = {\"A\":20,\"B\":40,\"C\":33,\"D\":14,\"E\":6,\"F\":60}\n",
    "var_dict = {\"A\":A,\"B\":B,\"C\":C,\"D\":D,\"E\":E,\"F\":F}\n",
    "model += lpSum([profit_by_cake[type] * var_dict[type] \n",
    "                for type in cake_types])"
   ]
  },
  {
   "cell_type": "code",
   "execution_count": 57,
   "metadata": {},
   "outputs": [
    {
     "data": {
      "text/plain": [
       "Loading_Truck_Problem:\n",
       "MINIMIZE\n",
       "86*ship__A + 95*ship__B + 205*ship__C + 229*ship__D + 101*ship__E + 209*ship__F + 0\n",
       "SUBJECT TO\n",
       "_C1: ship__A + ship__B + ship__C + ship__D + ship__E + ship__F >= 1\n",
       "\n",
       "_C2: ship__A - ship__D <= 0\n",
       "\n",
       "_C3: ship__B - ship__E <= 0\n",
       "\n",
       "VARIABLES\n",
       "0 <= ship__A <= 1 Integer\n",
       "0 <= ship__B <= 1 Integer\n",
       "0 <= ship__C <= 1 Integer\n",
       "0 <= ship__D <= 1 Integer\n",
       "0 <= ship__E <= 1 Integer\n",
       "0 <= ship__F <= 1 Integer"
      ]
     },
     "execution_count": 57,
     "metadata": {},
     "output_type": "execute_result"
    }
   ],
   "source": [
    "model"
   ]
  },
  {
   "cell_type": "markdown",
   "metadata": {},
   "source": [
    "<div class=\"exercise--assignment exercise--typography\"><h1 class=\"exercise--title\">Trying out lpSum</h1><div class=\"\"><p>In this exercise you are making two types (premium and budget) of ice cream, using heavy cream, whole milk, and sugar. One version is a premium version containing more cream than your budget version. You are looking to find the mixture of ingredients that minimizes the total costs of ingredients.</p>\n",
    "<table>\n",
    "<thead>\n",
    "<tr>\n",
    "<th>Ingredient</th>\n",
    "<th><span>&#36;</span>cup</th>\n",
    "</tr>\n",
    "</thead>\n",
    "<tbody>\n",
    "<tr>\n",
    "<td>Cream</td>\n",
    "<td><span>&#36;</span>1.5</td>\n",
    "</tr>\n",
    "<tr>\n",
    "<td>Milk</td>\n",
    "<td><span>&#36;</span>0.125</td>\n",
    "</tr>\n",
    "<tr>\n",
    "<td>Sugar</td>\n",
    "<td><span>&#36;</span>0.10</td>\n",
    "</tr>\n",
    "</tbody>\n",
    "</table>\n",
    "<p>Two Python lists called <code>prod_type</code> and <code>ingredient</code> have been created for you, along with a dictionary <code>var_dict</code> containing the decision variables of the model. You can explore them in the console.</p></div></div>"
   ]
  },
  {
   "cell_type": "code",
   "execution_count": 45,
   "metadata": {},
   "outputs": [],
   "source": [
    "# Define Objective Function\n",
    "# Define Decision Variables\n",
    "cb = LpVariable('A', lowBound=0, cat='Integer')\n",
    "mb = LpVariable('B', lowBound=0, cat='Integer')\n",
    "sb = LpVariable('C', lowBound=0, cat='Integer')\n",
    "cp = LpVariable('D', lowBound=0, cat='Integer')\n",
    "mp = LpVariable('E', lowBound=0, cat='Integer')\n",
    "sp = LpVariable('F', lowBound=0, cat='Integer')\n",
    "prod_type=['premium', 'budget']\n",
    "profit_by_cake = {\"A\":20,\"B\":40,\"C\":33,\"D\":14,\"E\":6,\"F\":60}\n",
    "var_dict={('budget', 'cream'): cb,\n",
    " ('budget', 'milk'): mb,\n",
    " ('budget', 'sugar'): sb,\n",
    " ('premium', 'cream'): cp,\n",
    " ('premium', 'milk'): mp,\n",
    " ('premium', 'sugar'): sp}\n",
    "\n",
    "model += lpSum([1.5 * var_dict[(i, 'cream')] \n",
    "                + 0.125 * var_dict[(i, 'milk')] \n",
    "                + 0.10 * var_dict[(i, 'sugar')]\n",
    "                \n",
    "                # Iterate over product types\n",
    "                for i in prod_type])\n"
   ]
  },
  {
   "cell_type": "markdown",
   "metadata": {},
   "source": [
    "<p class=\"\">In this situation using list comprehesion with <code>lpSum()</code> allows us to quickly define the objective function.</p>"
   ]
  },
  {
   "cell_type": "markdown",
   "metadata": {},
   "source": [
    "<div class=\"exercise--assignment exercise--typography\"><h1 class=\"exercise--title\">Logistics planning problem</h1><div class=\"\"><p>You are consulting for kitchen oven manufacturer helping to plan their logistics for next month. There are two warehouse locations (New York, and Atlanta), and four regional customer locations (East, South, Midwest, West). The expected demand next month for East it is 1,800, for South it is 1,200, for the Midwest it is 1,100, and for West it is 1000. The cost for shipping each of the warehouse locations to the regional customer's is listed in the table below. Your goal is to fulfill the regional demand at the lowest price.</p>\n",
    "<table>\n",
    "<thead>\n",
    "<tr>\n",
    "<th>Customer</th>\n",
    "<th>New York</th>\n",
    "<th>Atlanta</th>\n",
    "</tr>\n",
    "</thead>\n",
    "<tbody>\n",
    "<tr>\n",
    "<td>East</td>\n",
    "<td><span>&#36;</span>211</td>\n",
    "<td><span>&#36;</span>232</td>\n",
    "</tr>\n",
    "<tr>\n",
    "<td>South</td>\n",
    "<td><span>&#36;</span>232</td>\n",
    "<td><span>&#36;</span>212</td>\n",
    "</tr>\n",
    "<tr>\n",
    "<td>Midwest</td>\n",
    "<td><span>&#36;</span>240</td>\n",
    "<td><span>&#36;</span>230</td>\n",
    "</tr>\n",
    "<tr>\n",
    "<td>West</td>\n",
    "<td><span>&#36;</span>300</td>\n",
    "<td><span>&#36;</span>280</td>\n",
    "</tr>\n",
    "</tbody>\n",
    "</table>\n",
    "<p>Two Python dictionaries <code>costs</code> and <code>var_dict</code> have been created for you containing the costs and decision variables of the model. You can explore them in the console.</p></div></div>"
   ]
  },
  {
   "cell_type": "code",
   "execution_count": 46,
   "metadata": {},
   "outputs": [],
   "source": [
    "from pulp import *\n",
    "\n",
    "# Initialize Model\n",
    "model = LpProblem(\"Minimize Transportation Costs\", LpMinimize)\n",
    "atle = LpVariable('atle', lowBound=0, cat='Integer')\n",
    "atlm = LpVariable('atlm', lowBound=0, cat='Integer')\n",
    "atls = LpVariable('atls', lowBound=0, cat='Integer')\n",
    "atlw = LpVariable('atlw', lowBound=0, cat='Integer')\n",
    "ne = LpVariable('ne', lowBound=0, cat='Integer')\n",
    "nm = LpVariable('nm', lowBound=0, cat='Integer')\n",
    "ns = LpVariable('ns', lowBound=0, cat='Integer')\n",
    "nw = LpVariable('nw', lowBound=0, cat='Integer')\n",
    "costs={('Atlanta', 'East'): 232, ('Atlanta', 'Midwest'): 230, ('Atlanta', 'South'): 212, ('Atlanta', 'West'): 280, ('New York', 'East'): 211, ('New York', 'Midwest'): 240, ('New York', 'South'): 232, ('New York', 'West'): 300}\n",
    "var_dict={('Atlanta', 'East'): atle, ('Atlanta', 'Midwest'): atlm, ('Atlanta', 'South'): atls, ('Atlanta', 'West'): atlw, ('New York', 'East'): ne, ('New York', 'Midwest'): nm, ('New York', 'South'): ns,('New York', 'West'): nw}\n",
    "# Build the lists and the demand dictionary\n",
    "warehouse = ['New York', 'Atlanta']\n",
    "customers = ['East', 'South', 'Midwest', 'West']\n",
    "regional_demand = [1800, 1200, 1100, 1000]\n",
    "demand = dict(zip(customers, regional_demand))\n",
    "\n",
    "# Define Objective\n",
    "model += lpSum([costs[(w, c)] * var_dict[(w, c)] \n",
    "                for c in customers for w in warehouse])\n",
    "# For each customer, sum warehouse shipments and set equal to customer demand\n",
    "for c in customers:\n",
    "    model += lpSum([var_dict[(w, c)] for w in warehouse]) == demand[c]"
   ]
  },
  {
   "cell_type": "markdown",
   "metadata": {},
   "source": [
    "<p class=\"\">Using <code>LpMinimize()</code> makes sense because we are trying to minimize shipping cost. Creating the different lists and dictionaries make it easy to define the objective function and constraints with <code>lpSum()</code>.</p>"
   ]
  },
  {
   "cell_type": "markdown",
   "metadata": {},
   "source": [
    "<div class=\"exercise--assignment exercise--typography\"><h1 class=\"exercise--title\">Logistics planning problem 2</h1><div class=\"\"><p>You are again consulting for kitchen oven manufacturer helping to plan their logistics. This time you are attempting to put together a plan for the next six months (Jan.-Jun.). There are still two warehouse locations (New York, and Atlanta), and four regional customer locations (East, South, Midwest, West). The cost for shipping for each of the warehouse locations to the regional customer's is listed in the table below. Your goal is to determine the number of shipments from each warehouse to customers that provides the lowest costs.</p>\n",
    "<table>\n",
    "<thead>\n",
    "<tr>\n",
    "<th>Customer</th>\n",
    "<th>New York</th>\n",
    "<th>Atlanta</th>\n",
    "</tr>\n",
    "</thead>\n",
    "<tbody>\n",
    "<tr>\n",
    "<td>East</td>\n",
    "<td><span>&#36;</span>211</td>\n",
    "<td><span>&#36;</span>232</td>\n",
    "</tr>\n",
    "<tr>\n",
    "<td>South</td>\n",
    "<td><span>&#36;</span>232</td>\n",
    "<td><span>&#36;</span>212</td>\n",
    "</tr>\n",
    "<tr>\n",
    "<td>Midwest</td>\n",
    "<td><span>&#36;</span>240</td>\n",
    "<td><span>&#36;</span>230</td>\n",
    "</tr>\n",
    "<tr>\n",
    "<td>West</td>\n",
    "<td><span>&#36;</span>300</td>\n",
    "<td><span>&#36;</span>280</td>\n",
    "</tr>\n",
    "</tbody>\n",
    "</table>\n",
    "<p>A Python dictionary named, <code>costs</code> containing the costs of the model, and three lists <code>months</code>, <code>warehouse</code>, and <code>customers</code> have been created for you. <code>costs</code> has been printed for you, you can explore the lists in the console as well. Additionally, the model has been initialized for you.</p></div></div>"
   ]
  },
  {
   "cell_type": "code",
   "execution_count": 47,
   "metadata": {},
   "outputs": [],
   "source": [
    "costs={('Atlanta', 'East'): 232,\n",
    " ('Atlanta', 'Midwest'): 230,\n",
    " ('Atlanta', 'South'): 212,\n",
    " ('Atlanta', 'West'): 280,\n",
    " ('New York', 'East'): 211,\n",
    " ('New York', 'Midwest'): 240,\n",
    " ('New York', 'South'): 232,\n",
    " ('New York', 'West'): 300}\n",
    "months=['Jan', 'Feb', 'Mar', 'Apr', 'May', 'Jun']\n",
    "warehouse=['New York', 'Atlanta']\n",
    "customers=['East', 'South', 'Midwest', 'West']\n",
    "# Initialize Class\n",
    "model = LpProblem(\"Minimize Transportation Costs\", LpMinimize)\n",
    "# Define decision variables\n",
    "key = [(m, w, c) for m in months for w in warehouse for c in customers]\n",
    "var_dict = LpVariable.dicts('num_of_shipments', \n",
    "                            key, \n",
    "                            lowBound=0, cat='Integer')\n",
    "# Use the LpVariable dictionary variable to define objective\n",
    "model += lpSum([costs[(w, c)] * var_dict[(m, w, c)] \n",
    "                for m in months for w in warehouse for c in customers])"
   ]
  },
  {
   "cell_type": "markdown",
   "metadata": {},
   "source": [
    "<p class=\"\">Using <code>LpVariable.dicts()</code> allowed you to create 48 (6 months * 2 warehouses * 4 customers) individual decision variables for the model in a few lines of code.</p>"
   ]
  },
  {
   "cell_type": "markdown",
   "metadata": {},
   "source": [
    "<div class=\"exercise--assignment exercise--typography\"><h1 class=\"exercise--title\">Traveling salesman problem (TSP)</h1><div class=\"\"><p>The Traveling Salesman Problem (TSP) is a popular problem and has applications is logistics. In the TSP a salesman is given a list of cities, and the distance between each pair. He is looking for the shortest route going from the origin through all points before going back to the origin city again. This is a computationally difficult problem to solve but Miller-Tucker-Zemlin (MTZ) showed it can be completed using Integer Linear Programing. In this exercise you are going to define the objective and some constraints for of the TSP for a small dataset with 15 cities (see the image below). Your goal is to try out using <code>LpVariable.dicts</code> with list comprehension.</p>\n",
    "<p><img src=\"http://assets.datacamp.com/production/repositories/2888/datasets/94e4bfafc18ab6554a643c593f98f829057082f3/tsp_final.gif\" alt=\"Photo of Cities\"></p>\n",
    "<p>Three Python variables <code>n</code>, <code>cities</code>, and <code>dist</code> have been created for you <span class=\"MathJax_Preview\" style=\"color: inherit; display: none;\"></span><span class=\"MathJax\" id=\"MathJax-Element-1-Frame\" tabindex=\"0\" data-mathml=\"<math xmlns=&quot;http://www.w3.org/1998/Math/MathML&quot;><msup><mi></mi><mrow class=&quot;MJX-TeXAtom-ORD&quot;><mn>1</mn></mrow></msup></math>\" role=\"presentation\" style=\"position: relative;\"><nobr aria-hidden=\"true\"><span class=\"math\" id=\"MathJax-Span-1\" style=\"width: 0.537em; display: inline-block;\"><span style=\"display: inline-block; position: relative; width: 0.43em; height: 0px; font-size: 117%;\"><span style=\"position: absolute; clip: rect(1.178em, 1000.43em, 2.353em, -999.997em); top: -2.188em; left: 0em;\"><span class=\"mrow\" id=\"MathJax-Span-2\"><span class=\"msubsup\" id=\"MathJax-Span-3\"><span style=\"display: inline-block; position: relative; width: 0.43em; height: 0px;\"><span style=\"position: absolute; clip: rect(3.849em, 1000em, 4.169em, -999.997em); top: -4.004em; left: 0em;\"><span class=\"mi\" id=\"MathJax-Span-4\"></span><span style=\"display: inline-block; width: 0px; height: 4.009em;\"></span></span><span style=\"position: absolute; top: -4.378em; left: 0em;\"><span class=\"texatom\" id=\"MathJax-Span-5\"><span class=\"mrow\" id=\"MathJax-Span-6\"><span class=\"mn\" id=\"MathJax-Span-7\" style=\"font-size: 70.7%; font-family: MathJax_Main;\">1</span></span></span><span style=\"display: inline-block; width: 0px; height: 4.009em;\"></span></span></span></span></span><span style=\"display: inline-block; width: 0px; height: 2.193em;\"></span></span></span><span style=\"display: inline-block; overflow: hidden; vertical-align: -0.059em; border-left: 0px solid; width: 0px; height: 1.128em;\"></span></span></nobr><span class=\"MJX_Assistive_MathML\" role=\"presentation\"><math xmlns=\"http://www.w3.org/1998/Math/MathML\"><msup><mi></mi><mrow class=\"MJX-TeXAtom-ORD\"><mn>1</mn></mrow></msup></math></span></span><script type=\"math/tex\" id=\"MathJax-Element-1\">^{1}</script>. The <code>n</code> variable is the number of cities, <code>cities</code> is a list of the cities numbered and <code>dist</code> is a pandas DataFrame with the pairwise distance between each city. You can explore them in the console. Additionally, the model has been initialized for you.</p>\n",
    "<p><span class=\"MathJax_Preview\" style=\"color: inherit; display: none;\"></span><span class=\"MathJax\" id=\"MathJax-Element-2-Frame\" tabindex=\"0\" data-mathml=\"<math xmlns=&quot;http://www.w3.org/1998/Math/MathML&quot;><msup><mi></mi><mrow class=&quot;MJX-TeXAtom-ORD&quot;><mn>1</mn></mrow></msup></math>\" role=\"presentation\" style=\"position: relative;\"><nobr aria-hidden=\"true\"><span class=\"math\" id=\"MathJax-Span-8\" style=\"width: 0.537em; display: inline-block;\"><span style=\"display: inline-block; position: relative; width: 0.43em; height: 0px; font-size: 117%;\"><span style=\"position: absolute; clip: rect(1.178em, 1000.43em, 2.353em, -999.997em); top: -2.188em; left: 0em;\"><span class=\"mrow\" id=\"MathJax-Span-9\"><span class=\"msubsup\" id=\"MathJax-Span-10\"><span style=\"display: inline-block; position: relative; width: 0.43em; height: 0px;\"><span style=\"position: absolute; clip: rect(3.849em, 1000em, 4.169em, -999.997em); top: -4.004em; left: 0em;\"><span class=\"mi\" id=\"MathJax-Span-11\"></span><span style=\"display: inline-block; width: 0px; height: 4.009em;\"></span></span><span style=\"position: absolute; top: -4.378em; left: 0em;\"><span class=\"texatom\" id=\"MathJax-Span-12\"><span class=\"mrow\" id=\"MathJax-Span-13\"><span class=\"mn\" id=\"MathJax-Span-14\" style=\"font-size: 70.7%; font-family: MathJax_Main;\">1</span></span></span><span style=\"display: inline-block; width: 0px; height: 4.009em;\"></span></span></span></span></span><span style=\"display: inline-block; width: 0px; height: 2.193em;\"></span></span></span><span style=\"display: inline-block; overflow: hidden; vertical-align: -0.059em; border-left: 0px solid; width: 0px; height: 1.128em;\"></span></span></nobr><span class=\"MJX_Assistive_MathML\" role=\"presentation\"><math xmlns=\"http://www.w3.org/1998/Math/MathML\"><msup><mi></mi><mrow class=\"MJX-TeXAtom-ORD\"><mn>1</mn></mrow></msup></math></span></span><script type=\"math/tex\" id=\"MathJax-Element-2\">^{1}</script> Dataset come from Gerhard Reinelt,TSPLIB - A Traveling Salesman Problem Library, ORSA Journal on Computing,https://people.sc.fsu.edu/~jburkardt/datasets/tsp/tsp.html</p></div></div>"
   ]
  },
  {
   "cell_type": "code",
   "execution_count": 62,
   "metadata": {},
   "outputs": [],
   "source": [
    "\n",
    "import pandas as pd\n",
    "#import io\n",
    "#import requests\n",
    "#url=\"https://people.sc.fsu.edu/~jburkardt/datasets/tsp/p01_d.txt\"\n",
    "#s=requests.get(url).content\n",
    "#dist=pd.read_csv(io.StringIO(s.decode('utf-8')),sep = '     ',header=None)\n",
    "n=15\n",
    "cities=range(0, 15)\n",
    "dist=pd.read_csv('tsp.csv', sep = ',',header=None)\n",
    "\n",
    "# Define Decision Variables\n",
    "x = LpVariable.dicts('X', [(c1, c2) for c1 in cities for c2 in cities], \n",
    "                     cat='Binary')\n",
    "u = LpVariable.dicts('U', [c1 for c1 in cities], \n",
    "                     lowBound=0, upBound=(n-1), cat='Integer')\n",
    "\n",
    "# Define Objective\n",
    "model += lpSum([dist.iloc[c1, c2] * x[(c1, c2)] \n",
    "                for c1 in cities for c2 in cities])\n",
    "\n",
    "# Define Constraints\n",
    "for c2 in cities:\n",
    "    model += lpSum([x[(c1, c2)] for c1 in cities]) == 1\n",
    "for c1 in cities:\n",
    "    model += lpSum([x[(c1, c2)] for c2 in cities]) == 1"
   ]
  },
  {
   "cell_type": "code",
   "execution_count": 63,
   "metadata": {},
   "outputs": [
    {
     "data": {
      "text/plain": [
       "Loading_Truck_Problem:\n",
       "MINIMIZE\n",
       "29*X_(0,_1) + 29*X_(0,_10) + 74*X_(0,_11) + 23*X_(0,_12) + 72*X_(0,_13) + 46*X_(0,_14) + 82*X_(0,_2) + 46*X_(0,_3) + 68*X_(0,_4) + 52*X_(0,_5) + 72*X_(0,_6) + 42*X_(0,_7) + 51*X_(0,_8) + 55*X_(0,_9) + 29*X_(1,_0) + 41*X_(1,_10) + 51*X_(1,_11) + 11*X_(1,_12) + 52*X_(1,_13) + 21*X_(1,_14) + 55*X_(1,_2) + 46*X_(1,_3) + 42*X_(1,_4) + 43*X_(1,_5) + 43*X_(1,_6) + 23*X_(1,_7) + 23*X_(1,_8) + 31*X_(1,_9) + 29*X_(10,_0) + 41*X_(10,_1) + 65*X_(10,_11) + 42*X_(10,_12) + 59*X_(10,_13) + 61*X_(10,_14) + 79*X_(10,_2) + 21*X_(10,_3) + 82*X_(10,_4) + 33*X_(10,_5) + 77*X_(10,_6) + 37*X_(10,_7) + 62*X_(10,_8) + 51*X_(10,_9) + 74*X_(11,_0) + 51*X_(11,_1) + 65*X_(11,_10) + 61*X_(11,_12) + 11*X_(11,_13) + 55*X_(11,_14) + 21*X_(11,_2) + 51*X_(11,_3) + 58*X_(11,_4) + 37*X_(11,_5) + 37*X_(11,_6) + 33*X_(11,_7) + 46*X_(11,_8) + 21*X_(11,_9) + 23*X_(12,_0) + 11*X_(12,_1) + 42*X_(12,_10) + 61*X_(12,_11) + 62*X_(12,_13) + 23*X_(12,_14) + 64*X_(12,_2) + 51*X_(12,_3) + 46*X_(12,_4) + 51*X_(12,_5) + 51*X_(12,_6) + 33*X_(12,_7) + 29*X_(12,_8) + 41*X_(12,_9) + 72*X_(13,_0) + 52*X_(13,_1) + 59*X_(13,_10) + 11*X_(13,_11) + 62*X_(13,_12) + 59*X_(13,_14) + 31*X_(13,_2) + 43*X_(13,_3) + 65*X_(13,_4) + 29*X_(13,_5) + 46*X_(13,_6) + 31*X_(13,_7) + 51*X_(13,_8) + 23*X_(13,_9) + 46*X_(14,_0) + 21*X_(14,_1) + 61*X_(14,_10) + 55*X_(14,_11) + 23*X_(14,_12) + 59*X_(14,_13) + 51*X_(14,_2) + 64*X_(14,_3) + 23*X_(14,_4) + 59*X_(14,_5) + 33*X_(14,_6) + 37*X_(14,_7) + 11*X_(14,_8) + 37*X_(14,_9) + 82*X_(2,_0) + 55*X_(2,_1) + 79*X_(2,_10) + 21*X_(2,_11) + 64*X_(2,_12) + 31*X_(2,_13) + 51*X_(2,_14) + 68*X_(2,_3) + 46*X_(2,_4) + 55*X_(2,_5) + 23*X_(2,_6) + 43*X_(2,_7) + 41*X_(2,_8) + 29*X_(2,_9) + 46*X_(3,_0) + 46*X_(3,_1) + 21*X_(3,_10) + 51*X_(3,_11) + 51*X_(3,_12) + 43*X_(3,_13) + 64*X_(3,_14) + 68*X_(3,_2) + 82*X_(3,_4) + 15*X_(3,_5) + 72*X_(3,_6) + 31*X_(3,_7) + 62*X_(3,_8) + 42*X_(3,_9) + 68*X_(4,_0) + 42*X_(4,_1) + 82*X_(4,_10) + 58*X_(4,_11) + 46*X_(4,_12) + 65*X_(4,_13) + 23*X_(4,_14) + 46*X_(4,_2) + 82*X_(4,_3) + 74*X_(4,_5) + 23*X_(4,_6) + 52*X_(4,_7) + 21*X_(4,_8) + 46*X_(4,_9) + 52*X_(5,_0) + 43*X_(5,_1) + 33*X_(5,_10) + 37*X_(5,_11) + 51*X_(5,_12) + 29*X_(5,_13) + 59*X_(5,_14) + 55*X_(5,_2) + 15*X_(5,_3) + 74*X_(5,_4) + 61*X_(5,_6) + 23*X_(5,_7) + 55*X_(5,_8) + 31*X_(5,_9) + 72*X_(6,_0) + 43*X_(6,_1) + 77*X_(6,_10) + 37*X_(6,_11) + 51*X_(6,_12) + 46*X_(6,_13) + 33*X_(6,_14) + 23*X_(6,_2) + 72*X_(6,_3) + 23*X_(6,_4) + 61*X_(6,_5) + 42*X_(6,_7) + 23*X_(6,_8) + 31*X_(6,_9) + 42*X_(7,_0) + 23*X_(7,_1) + 37*X_(7,_10) + 33*X_(7,_11) + 33*X_(7,_12) + 31*X_(7,_13) + 37*X_(7,_14) + 43*X_(7,_2) + 31*X_(7,_3) + 52*X_(7,_4) + 23*X_(7,_5) + 42*X_(7,_6) + 33*X_(7,_8) + 15*X_(7,_9) + 51*X_(8,_0) + 23*X_(8,_1) + 62*X_(8,_10) + 46*X_(8,_11) + 29*X_(8,_12) + 51*X_(8,_13) + 11*X_(8,_14) + 41*X_(8,_2) + 62*X_(8,_3) + 21*X_(8,_4) + 55*X_(8,_5) + 23*X_(8,_6) + 33*X_(8,_7) + 29*X_(8,_9) + 55*X_(9,_0) + 31*X_(9,_1) + 51*X_(9,_10) + 21*X_(9,_11) + 41*X_(9,_12) + 23*X_(9,_13) + 37*X_(9,_14) + 29*X_(9,_2) + 42*X_(9,_3) + 46*X_(9,_4) + 31*X_(9,_5) + 31*X_(9,_6) + 15*X_(9,_7) + 29*X_(9,_8) + 0\n",
       "SUBJECT TO\n",
       "_C1: ship__A + ship__B + ship__C + ship__D + ship__E + ship__F >= 1\n",
       "\n",
       "_C2: ship__A - ship__D <= 0\n",
       "\n",
       "_C3: ship__B - ship__E <= 0\n",
       "\n",
       "_C4: X_(0,_0) + X_(1,_0) + X_(10,_0) + X_(11,_0) + X_(12,_0) + X_(13,_0)\n",
       " + X_(14,_0) + X_(2,_0) + X_(3,_0) + X_(4,_0) + X_(5,_0) + X_(6,_0) + X_(7,_0)\n",
       " + X_(8,_0) + X_(9,_0) = 1\n",
       "\n",
       "_C5: X_(0,_1) + X_(1,_1) + X_(10,_1) + X_(11,_1) + X_(12,_1) + X_(13,_1)\n",
       " + X_(14,_1) + X_(2,_1) + X_(3,_1) + X_(4,_1) + X_(5,_1) + X_(6,_1) + X_(7,_1)\n",
       " + X_(8,_1) + X_(9,_1) = 1\n",
       "\n",
       "_C6: X_(0,_2) + X_(1,_2) + X_(10,_2) + X_(11,_2) + X_(12,_2) + X_(13,_2)\n",
       " + X_(14,_2) + X_(2,_2) + X_(3,_2) + X_(4,_2) + X_(5,_2) + X_(6,_2) + X_(7,_2)\n",
       " + X_(8,_2) + X_(9,_2) = 1\n",
       "\n",
       "_C7: X_(0,_3) + X_(1,_3) + X_(10,_3) + X_(11,_3) + X_(12,_3) + X_(13,_3)\n",
       " + X_(14,_3) + X_(2,_3) + X_(3,_3) + X_(4,_3) + X_(5,_3) + X_(6,_3) + X_(7,_3)\n",
       " + X_(8,_3) + X_(9,_3) = 1\n",
       "\n",
       "_C8: X_(0,_4) + X_(1,_4) + X_(10,_4) + X_(11,_4) + X_(12,_4) + X_(13,_4)\n",
       " + X_(14,_4) + X_(2,_4) + X_(3,_4) + X_(4,_4) + X_(5,_4) + X_(6,_4) + X_(7,_4)\n",
       " + X_(8,_4) + X_(9,_4) = 1\n",
       "\n",
       "_C9: X_(0,_5) + X_(1,_5) + X_(10,_5) + X_(11,_5) + X_(12,_5) + X_(13,_5)\n",
       " + X_(14,_5) + X_(2,_5) + X_(3,_5) + X_(4,_5) + X_(5,_5) + X_(6,_5) + X_(7,_5)\n",
       " + X_(8,_5) + X_(9,_5) = 1\n",
       "\n",
       "_C10: X_(0,_6) + X_(1,_6) + X_(10,_6) + X_(11,_6) + X_(12,_6) + X_(13,_6)\n",
       " + X_(14,_6) + X_(2,_6) + X_(3,_6) + X_(4,_6) + X_(5,_6) + X_(6,_6) + X_(7,_6)\n",
       " + X_(8,_6) + X_(9,_6) = 1\n",
       "\n",
       "_C11: X_(0,_7) + X_(1,_7) + X_(10,_7) + X_(11,_7) + X_(12,_7) + X_(13,_7)\n",
       " + X_(14,_7) + X_(2,_7) + X_(3,_7) + X_(4,_7) + X_(5,_7) + X_(6,_7) + X_(7,_7)\n",
       " + X_(8,_7) + X_(9,_7) = 1\n",
       "\n",
       "_C12: X_(0,_8) + X_(1,_8) + X_(10,_8) + X_(11,_8) + X_(12,_8) + X_(13,_8)\n",
       " + X_(14,_8) + X_(2,_8) + X_(3,_8) + X_(4,_8) + X_(5,_8) + X_(6,_8) + X_(7,_8)\n",
       " + X_(8,_8) + X_(9,_8) = 1\n",
       "\n",
       "_C13: X_(0,_9) + X_(1,_9) + X_(10,_9) + X_(11,_9) + X_(12,_9) + X_(13,_9)\n",
       " + X_(14,_9) + X_(2,_9) + X_(3,_9) + X_(4,_9) + X_(5,_9) + X_(6,_9) + X_(7,_9)\n",
       " + X_(8,_9) + X_(9,_9) = 1\n",
       "\n",
       "_C14: X_(0,_10) + X_(1,_10) + X_(10,_10) + X_(11,_10) + X_(12,_10)\n",
       " + X_(13,_10) + X_(14,_10) + X_(2,_10) + X_(3,_10) + X_(4,_10) + X_(5,_10)\n",
       " + X_(6,_10) + X_(7,_10) + X_(8,_10) + X_(9,_10) = 1\n",
       "\n",
       "_C15: X_(0,_11) + X_(1,_11) + X_(10,_11) + X_(11,_11) + X_(12,_11)\n",
       " + X_(13,_11) + X_(14,_11) + X_(2,_11) + X_(3,_11) + X_(4,_11) + X_(5,_11)\n",
       " + X_(6,_11) + X_(7,_11) + X_(8,_11) + X_(9,_11) = 1\n",
       "\n",
       "_C16: X_(0,_12) + X_(1,_12) + X_(10,_12) + X_(11,_12) + X_(12,_12)\n",
       " + X_(13,_12) + X_(14,_12) + X_(2,_12) + X_(3,_12) + X_(4,_12) + X_(5,_12)\n",
       " + X_(6,_12) + X_(7,_12) + X_(8,_12) + X_(9,_12) = 1\n",
       "\n",
       "_C17: X_(0,_13) + X_(1,_13) + X_(10,_13) + X_(11,_13) + X_(12,_13)\n",
       " + X_(13,_13) + X_(14,_13) + X_(2,_13) + X_(3,_13) + X_(4,_13) + X_(5,_13)\n",
       " + X_(6,_13) + X_(7,_13) + X_(8,_13) + X_(9,_13) = 1\n",
       "\n",
       "_C18: X_(0,_14) + X_(1,_14) + X_(10,_14) + X_(11,_14) + X_(12,_14)\n",
       " + X_(13,_14) + X_(14,_14) + X_(2,_14) + X_(3,_14) + X_(4,_14) + X_(5,_14)\n",
       " + X_(6,_14) + X_(7,_14) + X_(8,_14) + X_(9,_14) = 1\n",
       "\n",
       "_C19: X_(0,_0) + X_(0,_1) + X_(0,_10) + X_(0,_11) + X_(0,_12) + X_(0,_13)\n",
       " + X_(0,_14) + X_(0,_2) + X_(0,_3) + X_(0,_4) + X_(0,_5) + X_(0,_6) + X_(0,_7)\n",
       " + X_(0,_8) + X_(0,_9) = 1\n",
       "\n",
       "_C20: X_(1,_0) + X_(1,_1) + X_(1,_10) + X_(1,_11) + X_(1,_12) + X_(1,_13)\n",
       " + X_(1,_14) + X_(1,_2) + X_(1,_3) + X_(1,_4) + X_(1,_5) + X_(1,_6) + X_(1,_7)\n",
       " + X_(1,_8) + X_(1,_9) = 1\n",
       "\n",
       "_C21: X_(2,_0) + X_(2,_1) + X_(2,_10) + X_(2,_11) + X_(2,_12) + X_(2,_13)\n",
       " + X_(2,_14) + X_(2,_2) + X_(2,_3) + X_(2,_4) + X_(2,_5) + X_(2,_6) + X_(2,_7)\n",
       " + X_(2,_8) + X_(2,_9) = 1\n",
       "\n",
       "_C22: X_(3,_0) + X_(3,_1) + X_(3,_10) + X_(3,_11) + X_(3,_12) + X_(3,_13)\n",
       " + X_(3,_14) + X_(3,_2) + X_(3,_3) + X_(3,_4) + X_(3,_5) + X_(3,_6) + X_(3,_7)\n",
       " + X_(3,_8) + X_(3,_9) = 1\n",
       "\n",
       "_C23: X_(4,_0) + X_(4,_1) + X_(4,_10) + X_(4,_11) + X_(4,_12) + X_(4,_13)\n",
       " + X_(4,_14) + X_(4,_2) + X_(4,_3) + X_(4,_4) + X_(4,_5) + X_(4,_6) + X_(4,_7)\n",
       " + X_(4,_8) + X_(4,_9) = 1\n",
       "\n",
       "_C24: X_(5,_0) + X_(5,_1) + X_(5,_10) + X_(5,_11) + X_(5,_12) + X_(5,_13)\n",
       " + X_(5,_14) + X_(5,_2) + X_(5,_3) + X_(5,_4) + X_(5,_5) + X_(5,_6) + X_(5,_7)\n",
       " + X_(5,_8) + X_(5,_9) = 1\n",
       "\n",
       "_C25: X_(6,_0) + X_(6,_1) + X_(6,_10) + X_(6,_11) + X_(6,_12) + X_(6,_13)\n",
       " + X_(6,_14) + X_(6,_2) + X_(6,_3) + X_(6,_4) + X_(6,_5) + X_(6,_6) + X_(6,_7)\n",
       " + X_(6,_8) + X_(6,_9) = 1\n",
       "\n",
       "_C26: X_(7,_0) + X_(7,_1) + X_(7,_10) + X_(7,_11) + X_(7,_12) + X_(7,_13)\n",
       " + X_(7,_14) + X_(7,_2) + X_(7,_3) + X_(7,_4) + X_(7,_5) + X_(7,_6) + X_(7,_7)\n",
       " + X_(7,_8) + X_(7,_9) = 1\n",
       "\n",
       "_C27: X_(8,_0) + X_(8,_1) + X_(8,_10) + X_(8,_11) + X_(8,_12) + X_(8,_13)\n",
       " + X_(8,_14) + X_(8,_2) + X_(8,_3) + X_(8,_4) + X_(8,_5) + X_(8,_6) + X_(8,_7)\n",
       " + X_(8,_8) + X_(8,_9) = 1\n",
       "\n",
       "_C28: X_(9,_0) + X_(9,_1) + X_(9,_10) + X_(9,_11) + X_(9,_12) + X_(9,_13)\n",
       " + X_(9,_14) + X_(9,_2) + X_(9,_3) + X_(9,_4) + X_(9,_5) + X_(9,_6) + X_(9,_7)\n",
       " + X_(9,_8) + X_(9,_9) = 1\n",
       "\n",
       "_C29: X_(10,_0) + X_(10,_1) + X_(10,_10) + X_(10,_11) + X_(10,_12)\n",
       " + X_(10,_13) + X_(10,_14) + X_(10,_2) + X_(10,_3) + X_(10,_4) + X_(10,_5)\n",
       " + X_(10,_6) + X_(10,_7) + X_(10,_8) + X_(10,_9) = 1\n",
       "\n",
       "_C30: X_(11,_0) + X_(11,_1) + X_(11,_10) + X_(11,_11) + X_(11,_12)\n",
       " + X_(11,_13) + X_(11,_14) + X_(11,_2) + X_(11,_3) + X_(11,_4) + X_(11,_5)\n",
       " + X_(11,_6) + X_(11,_7) + X_(11,_8) + X_(11,_9) = 1\n",
       "\n",
       "_C31: X_(12,_0) + X_(12,_1) + X_(12,_10) + X_(12,_11) + X_(12,_12)\n",
       " + X_(12,_13) + X_(12,_14) + X_(12,_2) + X_(12,_3) + X_(12,_4) + X_(12,_5)\n",
       " + X_(12,_6) + X_(12,_7) + X_(12,_8) + X_(12,_9) = 1\n",
       "\n",
       "_C32: X_(13,_0) + X_(13,_1) + X_(13,_10) + X_(13,_11) + X_(13,_12)\n",
       " + X_(13,_13) + X_(13,_14) + X_(13,_2) + X_(13,_3) + X_(13,_4) + X_(13,_5)\n",
       " + X_(13,_6) + X_(13,_7) + X_(13,_8) + X_(13,_9) = 1\n",
       "\n",
       "_C33: X_(14,_0) + X_(14,_1) + X_(14,_10) + X_(14,_11) + X_(14,_12)\n",
       " + X_(14,_13) + X_(14,_14) + X_(14,_2) + X_(14,_3) + X_(14,_4) + X_(14,_5)\n",
       " + X_(14,_6) + X_(14,_7) + X_(14,_8) + X_(14,_9) = 1\n",
       "\n",
       "VARIABLES\n",
       "0 <= X_(0,_0) <= 1 Integer\n",
       "0 <= X_(0,_1) <= 1 Integer\n",
       "0 <= X_(0,_10) <= 1 Integer\n",
       "0 <= X_(0,_11) <= 1 Integer\n",
       "0 <= X_(0,_12) <= 1 Integer\n",
       "0 <= X_(0,_13) <= 1 Integer\n",
       "0 <= X_(0,_14) <= 1 Integer\n",
       "0 <= X_(0,_2) <= 1 Integer\n",
       "0 <= X_(0,_3) <= 1 Integer\n",
       "0 <= X_(0,_4) <= 1 Integer\n",
       "0 <= X_(0,_5) <= 1 Integer\n",
       "0 <= X_(0,_6) <= 1 Integer\n",
       "0 <= X_(0,_7) <= 1 Integer\n",
       "0 <= X_(0,_8) <= 1 Integer\n",
       "0 <= X_(0,_9) <= 1 Integer\n",
       "0 <= X_(1,_0) <= 1 Integer\n",
       "0 <= X_(1,_1) <= 1 Integer\n",
       "0 <= X_(1,_10) <= 1 Integer\n",
       "0 <= X_(1,_11) <= 1 Integer\n",
       "0 <= X_(1,_12) <= 1 Integer\n",
       "0 <= X_(1,_13) <= 1 Integer\n",
       "0 <= X_(1,_14) <= 1 Integer\n",
       "0 <= X_(1,_2) <= 1 Integer\n",
       "0 <= X_(1,_3) <= 1 Integer\n",
       "0 <= X_(1,_4) <= 1 Integer\n",
       "0 <= X_(1,_5) <= 1 Integer\n",
       "0 <= X_(1,_6) <= 1 Integer\n",
       "0 <= X_(1,_7) <= 1 Integer\n",
       "0 <= X_(1,_8) <= 1 Integer\n",
       "0 <= X_(1,_9) <= 1 Integer\n",
       "0 <= X_(10,_0) <= 1 Integer\n",
       "0 <= X_(10,_1) <= 1 Integer\n",
       "0 <= X_(10,_10) <= 1 Integer\n",
       "0 <= X_(10,_11) <= 1 Integer\n",
       "0 <= X_(10,_12) <= 1 Integer\n",
       "0 <= X_(10,_13) <= 1 Integer\n",
       "0 <= X_(10,_14) <= 1 Integer\n",
       "0 <= X_(10,_2) <= 1 Integer\n",
       "0 <= X_(10,_3) <= 1 Integer\n",
       "0 <= X_(10,_4) <= 1 Integer\n",
       "0 <= X_(10,_5) <= 1 Integer\n",
       "0 <= X_(10,_6) <= 1 Integer\n",
       "0 <= X_(10,_7) <= 1 Integer\n",
       "0 <= X_(10,_8) <= 1 Integer\n",
       "0 <= X_(10,_9) <= 1 Integer\n",
       "0 <= X_(11,_0) <= 1 Integer\n",
       "0 <= X_(11,_1) <= 1 Integer\n",
       "0 <= X_(11,_10) <= 1 Integer\n",
       "0 <= X_(11,_11) <= 1 Integer\n",
       "0 <= X_(11,_12) <= 1 Integer\n",
       "0 <= X_(11,_13) <= 1 Integer\n",
       "0 <= X_(11,_14) <= 1 Integer\n",
       "0 <= X_(11,_2) <= 1 Integer\n",
       "0 <= X_(11,_3) <= 1 Integer\n",
       "0 <= X_(11,_4) <= 1 Integer\n",
       "0 <= X_(11,_5) <= 1 Integer\n",
       "0 <= X_(11,_6) <= 1 Integer\n",
       "0 <= X_(11,_7) <= 1 Integer\n",
       "0 <= X_(11,_8) <= 1 Integer\n",
       "0 <= X_(11,_9) <= 1 Integer\n",
       "0 <= X_(12,_0) <= 1 Integer\n",
       "0 <= X_(12,_1) <= 1 Integer\n",
       "0 <= X_(12,_10) <= 1 Integer\n",
       "0 <= X_(12,_11) <= 1 Integer\n",
       "0 <= X_(12,_12) <= 1 Integer\n",
       "0 <= X_(12,_13) <= 1 Integer\n",
       "0 <= X_(12,_14) <= 1 Integer\n",
       "0 <= X_(12,_2) <= 1 Integer\n",
       "0 <= X_(12,_3) <= 1 Integer\n",
       "0 <= X_(12,_4) <= 1 Integer\n",
       "0 <= X_(12,_5) <= 1 Integer\n",
       "0 <= X_(12,_6) <= 1 Integer\n",
       "0 <= X_(12,_7) <= 1 Integer\n",
       "0 <= X_(12,_8) <= 1 Integer\n",
       "0 <= X_(12,_9) <= 1 Integer\n",
       "0 <= X_(13,_0) <= 1 Integer\n",
       "0 <= X_(13,_1) <= 1 Integer\n",
       "0 <= X_(13,_10) <= 1 Integer\n",
       "0 <= X_(13,_11) <= 1 Integer\n",
       "0 <= X_(13,_12) <= 1 Integer\n",
       "0 <= X_(13,_13) <= 1 Integer\n",
       "0 <= X_(13,_14) <= 1 Integer\n",
       "0 <= X_(13,_2) <= 1 Integer\n",
       "0 <= X_(13,_3) <= 1 Integer\n",
       "0 <= X_(13,_4) <= 1 Integer\n",
       "0 <= X_(13,_5) <= 1 Integer\n",
       "0 <= X_(13,_6) <= 1 Integer\n",
       "0 <= X_(13,_7) <= 1 Integer\n",
       "0 <= X_(13,_8) <= 1 Integer\n",
       "0 <= X_(13,_9) <= 1 Integer\n",
       "0 <= X_(14,_0) <= 1 Integer\n",
       "0 <= X_(14,_1) <= 1 Integer\n",
       "0 <= X_(14,_10) <= 1 Integer\n",
       "0 <= X_(14,_11) <= 1 Integer\n",
       "0 <= X_(14,_12) <= 1 Integer\n",
       "0 <= X_(14,_13) <= 1 Integer\n",
       "0 <= X_(14,_14) <= 1 Integer\n",
       "0 <= X_(14,_2) <= 1 Integer\n",
       "0 <= X_(14,_3) <= 1 Integer\n",
       "0 <= X_(14,_4) <= 1 Integer\n",
       "0 <= X_(14,_5) <= 1 Integer\n",
       "0 <= X_(14,_6) <= 1 Integer\n",
       "0 <= X_(14,_7) <= 1 Integer\n",
       "0 <= X_(14,_8) <= 1 Integer\n",
       "0 <= X_(14,_9) <= 1 Integer\n",
       "0 <= X_(2,_0) <= 1 Integer\n",
       "0 <= X_(2,_1) <= 1 Integer\n",
       "0 <= X_(2,_10) <= 1 Integer\n",
       "0 <= X_(2,_11) <= 1 Integer\n",
       "0 <= X_(2,_12) <= 1 Integer\n",
       "0 <= X_(2,_13) <= 1 Integer\n",
       "0 <= X_(2,_14) <= 1 Integer\n",
       "0 <= X_(2,_2) <= 1 Integer\n",
       "0 <= X_(2,_3) <= 1 Integer\n",
       "0 <= X_(2,_4) <= 1 Integer\n",
       "0 <= X_(2,_5) <= 1 Integer\n",
       "0 <= X_(2,_6) <= 1 Integer\n",
       "0 <= X_(2,_7) <= 1 Integer\n",
       "0 <= X_(2,_8) <= 1 Integer\n",
       "0 <= X_(2,_9) <= 1 Integer\n",
       "0 <= X_(3,_0) <= 1 Integer\n",
       "0 <= X_(3,_1) <= 1 Integer\n",
       "0 <= X_(3,_10) <= 1 Integer\n",
       "0 <= X_(3,_11) <= 1 Integer\n",
       "0 <= X_(3,_12) <= 1 Integer\n",
       "0 <= X_(3,_13) <= 1 Integer\n",
       "0 <= X_(3,_14) <= 1 Integer\n",
       "0 <= X_(3,_2) <= 1 Integer\n",
       "0 <= X_(3,_3) <= 1 Integer\n",
       "0 <= X_(3,_4) <= 1 Integer\n",
       "0 <= X_(3,_5) <= 1 Integer\n",
       "0 <= X_(3,_6) <= 1 Integer\n",
       "0 <= X_(3,_7) <= 1 Integer\n",
       "0 <= X_(3,_8) <= 1 Integer\n",
       "0 <= X_(3,_9) <= 1 Integer\n",
       "0 <= X_(4,_0) <= 1 Integer\n",
       "0 <= X_(4,_1) <= 1 Integer\n",
       "0 <= X_(4,_10) <= 1 Integer\n",
       "0 <= X_(4,_11) <= 1 Integer\n",
       "0 <= X_(4,_12) <= 1 Integer\n",
       "0 <= X_(4,_13) <= 1 Integer\n",
       "0 <= X_(4,_14) <= 1 Integer\n",
       "0 <= X_(4,_2) <= 1 Integer\n",
       "0 <= X_(4,_3) <= 1 Integer\n",
       "0 <= X_(4,_4) <= 1 Integer\n",
       "0 <= X_(4,_5) <= 1 Integer\n",
       "0 <= X_(4,_6) <= 1 Integer\n",
       "0 <= X_(4,_7) <= 1 Integer\n",
       "0 <= X_(4,_8) <= 1 Integer\n",
       "0 <= X_(4,_9) <= 1 Integer\n",
       "0 <= X_(5,_0) <= 1 Integer\n",
       "0 <= X_(5,_1) <= 1 Integer\n",
       "0 <= X_(5,_10) <= 1 Integer\n",
       "0 <= X_(5,_11) <= 1 Integer\n",
       "0 <= X_(5,_12) <= 1 Integer\n",
       "0 <= X_(5,_13) <= 1 Integer\n",
       "0 <= X_(5,_14) <= 1 Integer\n",
       "0 <= X_(5,_2) <= 1 Integer\n",
       "0 <= X_(5,_3) <= 1 Integer\n",
       "0 <= X_(5,_4) <= 1 Integer\n",
       "0 <= X_(5,_5) <= 1 Integer\n",
       "0 <= X_(5,_6) <= 1 Integer\n",
       "0 <= X_(5,_7) <= 1 Integer\n",
       "0 <= X_(5,_8) <= 1 Integer\n",
       "0 <= X_(5,_9) <= 1 Integer\n",
       "0 <= X_(6,_0) <= 1 Integer\n",
       "0 <= X_(6,_1) <= 1 Integer\n",
       "0 <= X_(6,_10) <= 1 Integer\n",
       "0 <= X_(6,_11) <= 1 Integer\n",
       "0 <= X_(6,_12) <= 1 Integer\n",
       "0 <= X_(6,_13) <= 1 Integer\n",
       "0 <= X_(6,_14) <= 1 Integer\n",
       "0 <= X_(6,_2) <= 1 Integer\n",
       "0 <= X_(6,_3) <= 1 Integer\n",
       "0 <= X_(6,_4) <= 1 Integer\n",
       "0 <= X_(6,_5) <= 1 Integer\n",
       "0 <= X_(6,_6) <= 1 Integer\n",
       "0 <= X_(6,_7) <= 1 Integer\n",
       "0 <= X_(6,_8) <= 1 Integer\n",
       "0 <= X_(6,_9) <= 1 Integer\n",
       "0 <= X_(7,_0) <= 1 Integer\n",
       "0 <= X_(7,_1) <= 1 Integer\n",
       "0 <= X_(7,_10) <= 1 Integer\n",
       "0 <= X_(7,_11) <= 1 Integer\n",
       "0 <= X_(7,_12) <= 1 Integer\n",
       "0 <= X_(7,_13) <= 1 Integer\n",
       "0 <= X_(7,_14) <= 1 Integer\n",
       "0 <= X_(7,_2) <= 1 Integer\n",
       "0 <= X_(7,_3) <= 1 Integer\n",
       "0 <= X_(7,_4) <= 1 Integer\n",
       "0 <= X_(7,_5) <= 1 Integer\n",
       "0 <= X_(7,_6) <= 1 Integer\n",
       "0 <= X_(7,_7) <= 1 Integer\n",
       "0 <= X_(7,_8) <= 1 Integer\n",
       "0 <= X_(7,_9) <= 1 Integer\n",
       "0 <= X_(8,_0) <= 1 Integer\n",
       "0 <= X_(8,_1) <= 1 Integer\n",
       "0 <= X_(8,_10) <= 1 Integer\n",
       "0 <= X_(8,_11) <= 1 Integer\n",
       "0 <= X_(8,_12) <= 1 Integer\n",
       "0 <= X_(8,_13) <= 1 Integer\n",
       "0 <= X_(8,_14) <= 1 Integer\n",
       "0 <= X_(8,_2) <= 1 Integer\n",
       "0 <= X_(8,_3) <= 1 Integer\n",
       "0 <= X_(8,_4) <= 1 Integer\n",
       "0 <= X_(8,_5) <= 1 Integer\n",
       "0 <= X_(8,_6) <= 1 Integer\n",
       "0 <= X_(8,_7) <= 1 Integer\n",
       "0 <= X_(8,_8) <= 1 Integer\n",
       "0 <= X_(8,_9) <= 1 Integer\n",
       "0 <= X_(9,_0) <= 1 Integer\n",
       "0 <= X_(9,_1) <= 1 Integer\n",
       "0 <= X_(9,_10) <= 1 Integer\n",
       "0 <= X_(9,_11) <= 1 Integer\n",
       "0 <= X_(9,_12) <= 1 Integer\n",
       "0 <= X_(9,_13) <= 1 Integer\n",
       "0 <= X_(9,_14) <= 1 Integer\n",
       "0 <= X_(9,_2) <= 1 Integer\n",
       "0 <= X_(9,_3) <= 1 Integer\n",
       "0 <= X_(9,_4) <= 1 Integer\n",
       "0 <= X_(9,_5) <= 1 Integer\n",
       "0 <= X_(9,_6) <= 1 Integer\n",
       "0 <= X_(9,_7) <= 1 Integer\n",
       "0 <= X_(9,_8) <= 1 Integer\n",
       "0 <= X_(9,_9) <= 1 Integer\n",
       "0 <= ship__A <= 1 Integer\n",
       "0 <= ship__B <= 1 Integer\n",
       "0 <= ship__C <= 1 Integer\n",
       "0 <= ship__D <= 1 Integer\n",
       "0 <= ship__E <= 1 Integer\n",
       "0 <= ship__F <= 1 Integer"
      ]
     },
     "execution_count": 63,
     "metadata": {},
     "output_type": "execute_result"
    }
   ],
   "source": [
    "model"
   ]
  },
  {
   "cell_type": "markdown",
   "metadata": {},
   "source": [
    "<p class=\"\">you were able to use the combination of <code>LpVariable.dicts()</code>, <code>lpSum()</code>, and python's list comprehension to define over 200 variables. You used those variable to define the objective function and some constraints.</p>"
   ]
  },
  {
   "cell_type": "markdown",
   "metadata": {},
   "source": [
    "<div class=\"exercise--assignment exercise--typography\"><h1 class=\"exercise--title\">Scheduling workers problem</h1><div class=\"\"><p>You are looking to hire workers to work in a warehouse. Each worker is expected to work 5 consecutive days and then have two days off. The chart below has the estimated number of workers you will need each day. You are looking to hire the minimum number of workers to handle the workload for each day.</p>\n",
    "<p>Expected Workload</p>\n",
    "<table>\n",
    "<thead>\n",
    "<tr>\n",
    "<th>Day of Week</th>\n",
    "<th>Employees Needed</th>\n",
    "</tr>\n",
    "</thead>\n",
    "<tbody>\n",
    "<tr>\n",
    "<td>0 = Monday</td>\n",
    "<td>31</td>\n",
    "</tr>\n",
    "<tr>\n",
    "<td>1 = Tuesday</td>\n",
    "<td>45</td>\n",
    "</tr>\n",
    "<tr>\n",
    "<td>2 = Wednesday</td>\n",
    "<td>40</td>\n",
    "</tr>\n",
    "<tr>\n",
    "<td>3 = Thursday</td>\n",
    "<td>40</td>\n",
    "</tr>\n",
    "<tr>\n",
    "<td>4 = Friday</td>\n",
    "<td>48</td>\n",
    "</tr>\n",
    "<tr>\n",
    "<td>5 = Saturday</td>\n",
    "<td>30</td>\n",
    "</tr>\n",
    "<tr>\n",
    "<td>6 = Sunday</td>\n",
    "<td>25</td>\n",
    "</tr>\n",
    "</tbody>\n",
    "</table>\n",
    "<ul>\n",
    "<li>The pulp module has been imported and the model has been initialized for you. Also, the variable <code>days</code> has been defined for you as a list of number from 0-6.</li>\n",
    "</ul></div></div>"
   ]
  },
  {
   "cell_type": "code",
   "execution_count": 49,
   "metadata": {},
   "outputs": [
    {
     "data": {
      "text/plain": [
       "1"
      ]
     },
     "execution_count": 49,
     "metadata": {},
     "output_type": "execute_result"
    }
   ],
   "source": [
    "# The class has been initialize, and x, days, and objective function defined\n",
    "model = LpProblem(\"Minimize Staffing\", LpMinimize)\n",
    "days = list(range(7))\n",
    "x = LpVariable.dicts('staff_', days, lowBound=0, cat='Integer')\n",
    "model += lpSum([x[i] for i in days])\n",
    "\n",
    "# Define Constraints\n",
    "model += x[0] + x[3] + x[4] + x[5] + x[6] >= 31\n",
    "model += x[0] + x[1] + x[4] + x[5] + x[6] >= 45\n",
    "model += x[0] + x[1] + x[2] + x[5] + x[6] >= 40\n",
    "model += x[0] + x[1] + x[2] + x[3] + x[6] >= 40\n",
    "model += x[0] + x[1] + x[2] + x[3] + x[4] >= 48\n",
    "model += x[1] + x[2] + x[3] + x[4] + x[5] >= 30\n",
    "model += x[2] + x[3] + x[4] + x[5] + x[6] >= 25\n",
    "\n",
    "model.solve()"
   ]
  },
  {
   "cell_type": "code",
   "execution_count": 58,
   "metadata": {},
   "outputs": [
    {
     "data": {
      "text/plain": [
       "Loading_Truck_Problem:\n",
       "MINIMIZE\n",
       "86*ship__A + 95*ship__B + 205*ship__C + 229*ship__D + 101*ship__E + 209*ship__F + 0\n",
       "SUBJECT TO\n",
       "_C1: ship__A + ship__B + ship__C + ship__D + ship__E + ship__F >= 1\n",
       "\n",
       "_C2: ship__A - ship__D <= 0\n",
       "\n",
       "_C3: ship__B - ship__E <= 0\n",
       "\n",
       "VARIABLES\n",
       "0 <= ship__A <= 1 Integer\n",
       "0 <= ship__B <= 1 Integer\n",
       "0 <= ship__C <= 1 Integer\n",
       "0 <= ship__D <= 1 Integer\n",
       "0 <= ship__E <= 1 Integer\n",
       "0 <= ship__F <= 1 Integer"
      ]
     },
     "execution_count": 58,
     "metadata": {},
     "output_type": "execute_result"
    }
   ],
   "source": [
    "model"
   ]
  },
  {
   "cell_type": "markdown",
   "metadata": {},
   "source": [
    "<p class=\"\">To complete this staffing exercise, you first needed to define your decision variables. The integer category was the right one to choose because we cannot have partial days. Next, you defined your objective function using <code>lpSum()</code> to count the total number of workers. Finally, to define the constraints, you correctly recognized the pattern - skipping the 2 days a worker would be off.</p>"
   ]
  },
  {
   "cell_type": "markdown",
   "metadata": {},
   "source": [
    "<div class=\"exercise--assignment exercise--typography\"><h1 class=\"exercise--title\">Scheduling workers problem</h1><div class=\"\"><p>You are looking to hire workers to work in a warehouse. Each worker is expected to work 5 consecutive days and then have two days off. The chart below has the estimated number of workers you will need each day. You are looking to hire the minimum number of workers to handle the workload for each day.</p>\n",
    "<p>Expected Workload</p>\n",
    "<table>\n",
    "<thead>\n",
    "<tr>\n",
    "<th>Day of Week</th>\n",
    "<th>Employees Needed</th>\n",
    "</tr>\n",
    "</thead>\n",
    "<tbody>\n",
    "<tr>\n",
    "<td>0 = Monday</td>\n",
    "<td>31</td>\n",
    "</tr>\n",
    "<tr>\n",
    "<td>1 = Tuesday</td>\n",
    "<td>45</td>\n",
    "</tr>\n",
    "<tr>\n",
    "<td>2 = Wednesday</td>\n",
    "<td>40</td>\n",
    "</tr>\n",
    "<tr>\n",
    "<td>3 = Thursday</td>\n",
    "<td>40</td>\n",
    "</tr>\n",
    "<tr>\n",
    "<td>4 = Friday</td>\n",
    "<td>48</td>\n",
    "</tr>\n",
    "<tr>\n",
    "<td>5 = Saturday</td>\n",
    "<td>30</td>\n",
    "</tr>\n",
    "<tr>\n",
    "<td>6 = Sunday</td>\n",
    "<td>25</td>\n",
    "</tr>\n",
    "</tbody>\n",
    "</table>\n",
    "<ul>\n",
    "<li>The pulp module has been imported and the model has been initialized for you. Also, the variable <code>days</code> has been defined for you as a list of number from 0-6.</li>\n",
    "</ul></div></div>"
   ]
  },
  {
   "cell_type": "code",
   "execution_count": 50,
   "metadata": {},
   "outputs": [
    {
     "data": {
      "text/plain": [
       "1"
      ]
     },
     "execution_count": 50,
     "metadata": {},
     "output_type": "execute_result"
    }
   ],
   "source": [
    "# The class has been initialize, and x, days, and objective function defined\n",
    "model = LpProblem(\"Minimize Staffing\", LpMinimize)\n",
    "days = list(range(7))\n",
    "x = LpVariable.dicts('staff_', days, lowBound=0, cat='Integer')\n",
    "model += lpSum([x[i] for i in days])\n",
    "\n",
    "# Define Constraints\n",
    "model += x[0] + x[3] + x[4] + x[5] + x[6] >= 31\n",
    "model += x[0] + x[1] + x[4] + x[5] + x[6] >= 45\n",
    "model += x[0] + x[1] + x[2] + x[5] + x[6] >= 40\n",
    "model += x[0] + x[1] + x[2] + x[3] + x[6] >= 40\n",
    "model += x[0] + x[1] + x[2] + x[3] + x[4] >= 48\n",
    "model += x[1] + x[2] + x[3] + x[4] + x[5] >= 30\n",
    "model += x[2] + x[3] + x[4] + x[5] + x[6] >= 25\n",
    "\n",
    "model.solve()"
   ]
  },
  {
   "cell_type": "markdown",
   "metadata": {},
   "source": [
    "<div class=\"exercise--assignment exercise--typography\"><h1 class=\"exercise--title\">Preventative maintenance scheduling</h1><div class=\"\"><p>At a quarry they use diamond saws to cut slabs of marble. For preventative maintenance the saws are only allowed to run for 4 consecutive hours, afterwards a 1 hour inspection is completed before they are allowed to go back into service. The quarry operates 10-hour shifts. At the end of the shift if the saw blades have not been used for 4 consecutive hours the remaining time will be used at the start of the next shift. The expected number of saw blades needed for each hour is listed below. Our goal is to determine the minimum number of saw blades are needed for the shift.</p>\n",
    "<p>Expected Workload - <em>(Note that the chart at hour 0)</em></p>\n",
    "<table>\n",
    "<thead>\n",
    "<tr>\n",
    "<th>Hour</th>\n",
    "<th>Saws Needed</th>\n",
    "</tr>\n",
    "</thead>\n",
    "<tbody>\n",
    "<tr>\n",
    "<td>0</td>\n",
    "<td>7</td>\n",
    "</tr>\n",
    "<tr>\n",
    "<td>1</td>\n",
    "<td>7</td>\n",
    "</tr>\n",
    "<tr>\n",
    "<td>2</td>\n",
    "<td>7</td>\n",
    "</tr>\n",
    "<tr>\n",
    "<td>3</td>\n",
    "<td>6</td>\n",
    "</tr>\n",
    "<tr>\n",
    "<td>4</td>\n",
    "<td>5</td>\n",
    "</tr>\n",
    "<tr>\n",
    "<td>5</td>\n",
    "<td>6</td>\n",
    "</tr>\n",
    "<tr>\n",
    "<td>6</td>\n",
    "<td>6</td>\n",
    "</tr>\n",
    "<tr>\n",
    "<td>7</td>\n",
    "<td>7</td>\n",
    "</tr>\n",
    "<tr>\n",
    "<td>8</td>\n",
    "<td>7</td>\n",
    "</tr>\n",
    "<tr>\n",
    "<td>9</td>\n",
    "<td>6</td>\n",
    "</tr>\n",
    "</tbody>\n",
    "</table>\n",
    "<ul>\n",
    "<li>The model has been initialized for you.</li>\n",
    "</ul></div></div>"
   ]
  },
  {
   "cell_type": "code",
   "execution_count": 51,
   "metadata": {},
   "outputs": [
    {
     "data": {
      "text/plain": [
       "1"
      ]
     },
     "execution_count": 51,
     "metadata": {},
     "output_type": "execute_result"
    }
   ],
   "source": [
    "# The class has been initialize, and x, hours and objective fuction defined\n",
    "model = LpProblem(\"Minimize Staffing\", LpMinimize)\n",
    "hours = list(range(10))\n",
    "x = LpVariable.dicts('saws_', hours, lowBound=0, cat='Integer')\n",
    "model += lpSum([x[i] for i in hours])\n",
    "\n",
    "# Define Constraints\n",
    "model += x[0] + x[2] + x[3] + x[4] + x[5] + x[7] + x[8] + x[9] >= 7\n",
    "model += x[0] + x[1] + x[3] + x[4] + x[5] + x[6] + x[8] + x[9] >= 7\n",
    "model += x[0] + x[1] + x[2] + x[4] + x[5] + x[6] + x[7] + x[9] >= 7\n",
    "model += x[0] + x[1] + x[2] + x[3] + x[5] + x[6] + x[7] + x[8] >= 6\n",
    "model += x[1] + x[2] + x[3] + x[4] + x[6] + x[7] + x[8] + x[9] >= 5\n",
    "model += x[0] + x[2] + x[3] + x[4] + x[5] + x[7] + x[8] + x[9] >= 6\n",
    "model += x[0] + x[1] + x[3] + x[4] + x[5] + x[6] + x[8] + x[9] >= 6\n",
    "model += x[0] + x[1] + x[2] + x[4] + x[5] + x[6] + x[7] + x[9] >= 7\n",
    "model += x[0] + x[1] + x[2] + x[3] + x[5] + x[6] + x[7] + x[8] >= 7\n",
    "model += x[1] + x[2] + x[3] + x[4] + x[6] + x[7] + x[8] + x[9] >= 6\n",
    "\n",
    "model.solve()"
   ]
  },
  {
   "cell_type": "markdown",
   "metadata": {},
   "source": [
    "<p class=\"\">Early on you recongize that you needed to define your variables as the number of saw blades that begin their 4 hours of service. Additionally, you were able to use these variables in defining your objetive function using lpSum. Finally, you recongized the pattern used to define your constraints.</p>"
   ]
  },
  {
   "cell_type": "markdown",
   "metadata": {},
   "source": [
    "<div class=\"exercise--assignment exercise--typography\"><h1 class=\"exercise--title\">Decision variables of case study</h1><div class=\"\"><p>Continue the case study of the Capacitated Plant Location model of a car manufacture. You are given four Pandas data frames <code>demand</code>, <code>var_cost</code>, <code>fix_cost</code>, and <code>cap</code> containing the regional demand (thous. of cars), variable production costs (thous. <span>&#36;</span>US), fixed production costs (thous. <span>&#36;</span>US), and production capacity (thous. of cars). All these variables have been printed to the console for your viewing.</p></div></div>"
   ]
  },
  {
   "cell_type": "code",
   "execution_count": 52,
   "metadata": {},
   "outputs": [],
   "source": [
    "import pandas as pd\n",
    "from pulp import *\n",
    "# Initialize, and Define Decision Vars.\n",
    "\n",
    "model = LpProblem(\"Capacitated Plant Location Model\", LpMinimize)\n",
    "loc = ['USA', 'Germany', 'Japan', 'Brazil', 'India']\n",
    "size = ['Low_Cap','High_Cap']\n",
    "x = LpVariable.dicts(\"production_\", [(i,j) for i in loc for j in loc],\n",
    "                     lowBound=0, upBound=None, cat='Continous')\n",
    "y = LpVariable.dicts(\"plant_\", \n",
    "                     [(i,s) for s in size for i in loc], cat='Binary')\n",
    "\n",
    "# Define objective function\n"
   ]
  },
  {
   "cell_type": "markdown",
   "metadata": {},
   "source": [
    "<p class=\"\">It makes sense that <code>x</code> is continuous because the units of demand and plant capacity are in millions of cars which you can have fractions of millions of cars. Overall, you correctly created the needed variables for the capacitated plant location model.</p>"
   ]
  },
  {
   "cell_type": "markdown",
   "metadata": {},
   "source": [
    "<p class=\"\">This objective function can seem complex, but by breaking it into smaller parts it seems more managable.</p>"
   ]
  },
  {
   "cell_type": "markdown",
   "metadata": {},
   "source": [
    "<div class=\"exercise--assignment exercise--typography\"><h1 class=\"exercise--title\">Objective function of case study</h1><div class=\"\"><p>Continue the case study of the Capacitated Plant Location model of a car manufacture. You are given four Pandas data frames <code>demand</code>, <code>var_cost</code>, <code>fix_cost</code>, and <code>cap</code> containing the regional demand (thous. of cars), variable production costs (thous. $US), fixed production costs (thous. $US), and production capacity (thous. of cars). Two python lists <code>loc</code>, and <code>size</code> have also been created, containing the different locations, and the two types of plant capacities. All these variables have been printed to the console for your viewing. The code to initialize, and defined the decision variables has been completed for you.</p></div></div>"
   ]
  },
  {
   "cell_type": "code",
   "execution_count": 53,
   "metadata": {},
   "outputs": [],
   "source": [
    "fix_cost=pd.read_csv('cap.csv',index_col=0)\n",
    "var_cost=pd.read_csv('var_Cost.csv',index_col=0)\n",
    "model += (lpSum([fix_cost.loc[i,s] * y[(i,s)] \n",
    "                 for s in size for i in loc])\n",
    "          + lpSum([var_cost.loc[i,j] * x[(i,j)] \n",
    "                   for i in loc for j in loc]))"
   ]
  },
  {
   "cell_type": "markdown",
   "metadata": {},
   "source": [
    "<div class=\"exercise--assignment exercise--typography\"><h1 class=\"exercise--title\">Logical constraint exercise</h1><div class=\"\"><p>Your customer has ordered six products to be delivered over the next month. You will need to ship multiple truck loads to deliver all of the products. There is a weight limit on your trucks of 25,000 lbs. For cash flow reasons you desire to ship the most profitable combination of products that can fit on your truck. </p>\n",
    "<table>\n",
    "<thead>\n",
    "<tr>\n",
    "<th>Product</th>\n",
    "<th>Weight (lbs)</th>\n",
    "<th>Profitability ($US)</th>\n",
    "</tr>\n",
    "</thead>\n",
    "<tbody>\n",
    "<tr>\n",
    "<td>A</td>\n",
    "<td>12,583</td>\n",
    "<td>102,564</td>\n",
    "</tr>\n",
    "<tr>\n",
    "<td>B</td>\n",
    "<td>9,204</td>\n",
    "<td>130,043</td>\n",
    "</tr>\n",
    "<tr>\n",
    "<td>C</td>\n",
    "<td>12,611</td>\n",
    "<td>127,648</td>\n",
    "</tr>\n",
    "<tr>\n",
    "<td>D</td>\n",
    "<td>12,131</td>\n",
    "<td>155,058</td>\n",
    "</tr>\n",
    "<tr>\n",
    "<td>E</td>\n",
    "<td>12,889</td>\n",
    "<td>238,846</td>\n",
    "</tr>\n",
    "<tr>\n",
    "<td>F</td>\n",
    "<td>11,529</td>\n",
    "<td>197,030</td>\n",
    "</tr>\n",
    "</tbody>\n",
    "</table>\n",
    "<p>Two Python dictionaries <code>weight</code>, and <code>prof</code>, and a list <code>prod</code> have been created for you containing the weight, profitability, and name of each product. You can explore them in the console.</p></div></div>\n"
   ]
  },
  {
   "cell_type": "code",
   "execution_count": 54,
   "metadata": {},
   "outputs": [],
   "source": [
    "weight={'A': 12583, 'B': 9204, 'C': 12611, 'D': 12131, 'E': 12889, 'F': 11529}\n",
    "prof={'A': 102564, 'B': 130043, 'C': 127648, 'D': 155058, 'E': 238846, 'F': 197030}\n",
    "prod=['A', 'B', 'C', 'D', 'E', 'F']"
   ]
  },
  {
   "cell_type": "code",
   "execution_count": 55,
   "metadata": {},
   "outputs": [
    {
     "name": "stdout",
     "output_type": "stream",
     "text": [
      "A status 0.0\n",
      "B status 1.0\n",
      "C status 0.0\n",
      "D status 0.0\n",
      "E status 1.0\n",
      "F status 0.0\n"
     ]
    }
   ],
   "source": [
    "# Initialized model, defined decision variables and objective\n",
    "model = LpProblem(\"Loading Truck Problem\", LpMaximize)\n",
    "x = LpVariable.dicts('ship_', prod, cat='Binary')\n",
    "model += lpSum([prof[i] * x[i] for i in prod])\n",
    "\n",
    "# Define Constraint\n",
    "model += lpSum([weight[i] * x[i] for i in prod]) <= 25000\n",
    "model += x['E']+x['D']+x['F'] <=1\n",
    "\n",
    "model.solve()\n",
    "for i in prod:\n",
    "    print(\"{} status {}\".format(i, x[i].varValue))"
   ]
  },
  {
   "cell_type": "markdown",
   "metadata": {},
   "source": [
    "<p class=\"\">Since we are limiting the sum of the binary variables to 1, for products D, E, and F, the only way to satisfy this condidion is by selecting only one product.</p>"
   ]
  },
  {
   "cell_type": "markdown",
   "metadata": {},
   "source": [
    "<div class=\"exercise--assignment exercise--typography\"><h1 class=\"exercise--title\">Logical constraints exercise 2</h1><div class=\"\"><p>You work at a trucking distribution center and you need to decide which of 6 customer locations you will send a truck to. Your goal is to minimize the distance a truck travels.</p>\n",
    "<table>\n",
    "<thead>\n",
    "<tr>\n",
    "<th>Location</th>\n",
    "<th>Distance</th>\n",
    "</tr>\n",
    "</thead>\n",
    "<tbody>\n",
    "<tr>\n",
    "<td>A</td>\n",
    "<td>86</td>\n",
    "</tr>\n",
    "<tr>\n",
    "<td>B</td>\n",
    "<td>95</td>\n",
    "</tr>\n",
    "<tr>\n",
    "<td>C</td>\n",
    "<td>205</td>\n",
    "</tr>\n",
    "<tr>\n",
    "<td>D</td>\n",
    "<td>229</td>\n",
    "</tr>\n",
    "<tr>\n",
    "<td>E</td>\n",
    "<td>101</td>\n",
    "</tr>\n",
    "<tr>\n",
    "<td>F</td>\n",
    "<td>209</td>\n",
    "</tr>\n",
    "</tbody>\n",
    "</table>\n",
    "<p>A dictionary <code>dist</code>, and a list <code>cust</code> have been created for you containing the distance, and name of each customer location. These inputs have been printed in console for you.</p></div></div>"
   ]
  },
  {
   "cell_type": "code",
   "execution_count": 56,
   "metadata": {},
   "outputs": [
    {
     "name": "stdout",
     "output_type": "stream",
     "text": [
      "A status 0.0\n",
      "B status 0.0\n",
      "C status 0.0\n",
      "D status 0.0\n",
      "E status 1.0\n",
      "F status 0.0\n"
     ]
    }
   ],
   "source": [
    "cust=['A', 'B', 'C', 'D', 'E', 'F']\n",
    "dist={'A': 86, 'B': 95, 'C': 205, 'D': 229, 'E': 101, 'F': 209}\n",
    "model = LpProblem(\"Loading Truck Problem\", LpMinimize)\n",
    "x = LpVariable.dicts('ship_', cust, cat='Binary')\n",
    "model += lpSum([dist[i]*x[i] for i in cust])\n",
    "\n",
    "# Define Constraint\n",
    "model += x['A'] + x['B'] + x['C'] + x['D'] + x['E'] + x['F'] >= 1\n",
    "model += x['A'] - x['D'] <= 0\n",
    "model += x['B'] - x['E'] <= 0\n",
    "\n",
    "model.solve()\n",
    "for i in cust:\n",
    "    print(\"{} status {}\".format(i, x[i].varValue))"
   ]
  },
  {
   "cell_type": "code",
   "execution_count": 60,
   "metadata": {},
   "outputs": [
    {
     "data": {
      "text/plain": [
       "Loading_Truck_Problem:\n",
       "MINIMIZE\n",
       "86*ship__A + 95*ship__B + 205*ship__C + 229*ship__D + 101*ship__E + 209*ship__F + 0\n",
       "SUBJECT TO\n",
       "_C1: ship__A + ship__B + ship__C + ship__D + ship__E + ship__F >= 1\n",
       "\n",
       "_C2: ship__A - ship__D <= 0\n",
       "\n",
       "_C3: ship__B - ship__E <= 0\n",
       "\n",
       "VARIABLES\n",
       "0 <= ship__A <= 1 Integer\n",
       "0 <= ship__B <= 1 Integer\n",
       "0 <= ship__C <= 1 Integer\n",
       "0 <= ship__D <= 1 Integer\n",
       "0 <= ship__E <= 1 Integer\n",
       "0 <= ship__F <= 1 Integer"
      ]
     },
     "execution_count": 60,
     "metadata": {},
     "output_type": "execute_result"
    }
   ],
   "source": [
    "model"
   ]
  },
  {
   "cell_type": "code",
   "execution_count": null,
   "metadata": {},
   "outputs": [],
   "source": []
  }
 ],
 "metadata": {
  "kernelspec": {
   "display_name": "Python 3",
   "language": "python",
   "name": "python3"
  },
  "language_info": {
   "codemirror_mode": {
    "name": "ipython",
    "version": 3
   },
   "file_extension": ".py",
   "mimetype": "text/x-python",
   "name": "python",
   "nbconvert_exporter": "python",
   "pygments_lexer": "ipython3",
   "version": "3.8.3"
  }
 },
 "nbformat": 4,
 "nbformat_minor": 4
}
